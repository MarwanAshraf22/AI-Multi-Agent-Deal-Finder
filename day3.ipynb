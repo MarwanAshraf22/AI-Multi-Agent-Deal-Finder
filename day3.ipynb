{
 "cells": [
  {
   "cell_type": "code",
   "execution_count": 16,
   "id": "a2df0861",
   "metadata": {},
   "outputs": [],
   "source": [
    "import os\n",
    "import json\n",
    "from dotenv import load_dotenv\n",
    "from openai import OpenAI\n",
    "from agents.deals import ScrapedDeal, DealSelection"
   ]
  },
  {
   "cell_type": "code",
   "execution_count": 2,
   "metadata": {},
   "outputs": [],
   "source": [
    "load_dotenv()\n",
    "os.environ[\"OPENAI_API_KEY\"] = os.getenv(\"OPENAI_API_KEY\")\n",
    "MODEL = \"gpt-4o-mini\"\n",
    "openai = OpenAI()"
   ]
  },
  {
   "cell_type": "code",
   "execution_count": 3,
   "id": "615bbbb3",
   "metadata": {},
   "outputs": [
    {
     "name": "stderr",
     "output_type": "stream",
     "text": [
      "100%|██████████| 5/5 [02:02<00:00, 24.42s/it]\n"
     ]
    }
   ],
   "source": [
    "deals = ScrapedDeal.fetch(show_progress=True)"
   ]
  },
  {
   "cell_type": "code",
   "execution_count": 4,
   "id": "d5854b6f",
   "metadata": {},
   "outputs": [
    {
     "data": {
      "text/plain": [
       "50"
      ]
     },
     "execution_count": 4,
     "metadata": {},
     "output_type": "execute_result"
    }
   ],
   "source": [
    "len(deals)"
   ]
  },
  {
   "cell_type": "code",
   "execution_count": 5,
   "id": "b93c41e7",
   "metadata": {},
   "outputs": [
    {
     "data": {
      "text/plain": [
       "\"Title: Kohl's Lowest Prices of the Season Sale: Up to 58% off + Kohl's Cash + free shipping w/ $49\\nDetails: Save up to 58% off on a sale that touches every category on the site. Plus, get $10 in Kohl's Cash for every $50 spent. Shipping adds $8.95 or is free with orders of $49 or more. Shop Now at Best Buy\\nFeatures: \\nURL: https://www.dealnews.com/Kohls-Lowest-Prices-of-the-Season-Sale-Up-to-58-off-Kohls-Cash-free-shipping-w-49/21777407.html?iref=rss-c196\""
      ]
     },
     "execution_count": 5,
     "metadata": {},
     "output_type": "execute_result"
    }
   ],
   "source": [
    "deals[44].describe()"
   ]
  },
  {
   "cell_type": "code",
   "execution_count": 7,
   "id": "db1a96e7",
   "metadata": {},
   "outputs": [],
   "source": [
    "system_prompt = \"\"\"You identify and summarize the 5 most detailed deals from a list, by selecting deals that have the most detailed, high quality description and the most clear price.\n",
    "Respond strictly in JSON with no explanation, using this format. You should provide the price as a number derived from the description. If the price of a deal isn't clear, do not include that deal in your response.\n",
    "Most important is that you respond with the 5 deals that have the most detailed product description with price. It's not important to mention the terms of the deal; most important is a thorough description of the product.\n",
    "Be careful with products that are described as \"$XXX off\" or \"reduced by $XXX\" - this isn't the actual price of the product. Only respond with products when you are highly confident about the price. \n",
    "\n",
    "{\"deals\": [\n",
    "    {\n",
    "        \"product_description\": \"Your clearly expressed summary of the product in 4-5 sentences. Details of the item are much more important than why it's a good deal. Avoid mentioning discounts and coupons; focus on the item itself. There should be a paragpraph of text for each item you choose.\",\n",
    "        \"price\": 99.99,\n",
    "        \"url\": \"the url as provided\"\n",
    "    },\n",
    "    ...\n",
    "]}\"\"\" "
   ]
  },
  {
   "cell_type": "code",
   "execution_count": 8,
   "id": "85580bb4",
   "metadata": {},
   "outputs": [],
   "source": [
    "user_prompt = \"\"\"Respond with the most promising 5 deals from this list, selecting those which have the most detailed, high quality product description and a clear price.\n",
    "Respond strictly in JSON, and only JSON. You should rephrase the description to be a summary of the product itself, not the terms of the deal.\n",
    "Remember to respond with a paragraph of text in the product_description field for each of the 5 items that you select.\n",
    "Be careful with products that are described as \"$XXX off\" or \"reduced by $XXX\" - this isn't the actual price of the product. Only respond with products when you are highly confident about the price. \n",
    "\n",
    "Deals:\n",
    "\n",
    "\"\"\"\n",
    "user_prompt += '\\n\\n'.join([deal.describe() for deal in deals])"
   ]
  },
  {
   "cell_type": "code",
   "execution_count": 13,
   "id": "0e2857b3",
   "metadata": {},
   "outputs": [
    {
     "name": "stdout",
     "output_type": "stream",
     "text": [
      "Respond with the most promising 5 deals from this list, selecting those which have the most detailed, high quality product description and a clear price.\n",
      "Respond strictly in JSON, and only JSON. You should rephrase the description to be a summary of the product itself, not the terms of the deal.\n",
      "Remember to respond with a paragraph of text in the product_description field for each of the 5 items that you select.\n",
      "Be careful with products that are described as \"$XXX off\" or \"reduced by $XXX\" - this isn't the actual price of the product. Only respond with products when you are highly confident about the price. \n",
      "\n",
      "Deals:\n",
      "\n",
      "Title: Refurb Unlocked Samsung Galaxy S22 Ultra 256GB Phone for $299 + free shipping\n",
      "Details: This is the best price we've ever seen for the 256GB version of the Galaxy S22 Ultra. It's also $41 cheaper than what you'd pay at Amazon for a refurb. It comes with a 1-year Allstate warranty. Buy Now at eBay\n",
      "Features: Qualcomm SM8450 Snapdragon 8 Gen 1 8-core CPU  6.8\" 3088x1440 AMOLED touchscreen display  8GB RAM & 256GB storage  108MP back camera; 40MP front  Model: SM-S908U\n",
      "URL: https://www.dealnews.com/products/Samsung/Unlocked-Samsung-Galaxy-S22-Ultra-256-GB-Phone/382520.html?iref=rss-c142\n",
      "\n",
      "Title: Refurb Unlocked Apple iPhone 16 Pro Max 256GB Smartphone for $890 + free shipping\n",
      "Details: You'd pay over $900 for most refurbs at Amazon. This one is in \"Excellent\" condition and comes with a 1-year Allstate warranty. Buy Now at eBay\n",
      "Features: \n",
      "URL: https://www.dealnews.com/products/Apple/Unlocked-Apple-iPhone-16-Pro-Max-256-GB-Smartphone/489845.html?iref=rss-c142\n",
      "\n",
      "Title: Refurb Unlocked Apple iPhone 15 128GB Smartphone for $415 + free shipping\n",
      "Details: It's the best price we've ever seen for this 128GB iPhone 15 and $43 cheaper than Amazon's best price. A 1-year Allstate warranty applies. Buy Now at eBay\n",
      "Features: \n",
      "URL: https://www.dealnews.com/products/Apple/Unlocked-Apple-iPhone-15-128-GB-Smartphone/482155.html?iref=rss-c142\n",
      "\n",
      "Title: Refurb Unlocked Samsung \n"
     ]
    }
   ],
   "source": [
    "print(user_prompt[:2000])"
   ]
  },
  {
   "cell_type": "code",
   "execution_count": 19,
   "id": "8adcc405",
   "metadata": {},
   "outputs": [],
   "source": [
    "def get_recommendations():\n",
    "    completion = openai.beta.chat.completions.parse(\n",
    "        model=MODEL,\n",
    "        messages=[\n",
    "            {\"role\": \"system\", \"content\": system_prompt},\n",
    "            {\"role\": \"user\", \"content\": user_prompt}\n",
    "        ],\n",
    "        response_format=DealSelection\n",
    "    )\n",
    "    result = completion.choices[0].message.parsed\n",
    "    return result"
   ]
  },
  {
   "cell_type": "code",
   "execution_count": 20,
   "id": "186ba238",
   "metadata": {},
   "outputs": [],
   "source": [
    "result = get_recommendations()"
   ]
  },
  {
   "cell_type": "code",
   "execution_count": null,
   "id": "86afc0cb",
   "metadata": {},
   "outputs": [
    {
     "name": "stdout",
     "output_type": "stream",
     "text": [
      "deals=[Deal(product_description='The Unlocked Samsung Galaxy S22 Ultra is a high-performance smartphone featuring a 256GB storage capacity. It is equipped with a Qualcomm SM8450 Snapdragon 8 Gen 1 octa-core processor, ensuring smooth multitasking and app performance. The device boasts a stunning 6.8-inch 3088x1440 AMOLED touchscreen display, making visuals vibrant and clear. With a powerful 108MP back camera and a 40MP front camera, it captures beautiful photos and videos. This refurbished model comes with a one-year Allstate warranty.', price=299.0, url='https://www.dealnews.com/products/Samsung/Unlocked-Samsung-Galaxy-S22-Ultra-256-GB-Phone/382520.html?iref=rss-c142'), Deal(product_description='The Apple iPhone 16 Pro Max is a flagship smartphone offering a seamless user experience with its 256GB storage capacity. This refurbished device is in excellent condition and features a powerful camera system that includes advanced capabilities for photography and video recording. Its large display provides users with an immersive view for media consumption and app usage, while the device itself is designed for durability. This model also comes with a one-year Allstate warranty for added peace of mind.', price=890.0, url='https://www.dealnews.com/products/Apple/Unlocked-Apple-iPhone-16-Pro-Max-256-GB-Smartphone/489845.html?iref=rss-c142'), Deal(product_description='The refurbished Apple iPhone 15 offers 128GB of storage, making it an excellent choice for users looking for a balance of performance and capacity. This model promises high-speed performance with its latest chip and a sleek design that is both lightweight and durable. Users can enjoy high-quality photography and video features inherent to the iPhone ecosystem, enhanced by regular software updates. This refurbished phone is covered by a one-year Allstate warranty, ensuring a reliable purchase.', price=415.0, url='https://www.dealnews.com/products/Apple/Unlocked-Apple-iPhone-15-128-GB-Smartphone/482155.html?iref=rss-c142'), Deal(product_description='The refurbished Unlocked Samsung Galaxy S22 has a 128GB storage capacity and features a powerful Qualcomm SM8450 Snapdragon 8 Gen 1 chip. This phone has an impressive 6.8-inch WQHD+ edge screen display, providing bright and vivid colors for multimedia consumption. It also includes a robust 108MP rear camera and a 40MP front camera for excellent photo quality. With a one-year Allstate warranty, this device is an affordable option for those looking for high-end features.', price=145.0, url='https://www.dealnews.com/products/Samsung/Unlocked-Samsung-Galaxy-S22-128-GB-Android-Smartphone/303992.html?iref=rss-c142'), Deal(product_description='The Eco-Worthy 30.72kWh 48V 100AH Server Rack Lithium Battery 6-Pack is ideal for energy storage and backup. This set includes six units, each housed in a durable full-metal shell, and is built with a 100A Battery Management System (BMS) for safety. It supports wireless connectivity and smart monitoring, making it easy to integrate into existing systems. Perfect for standard 3U cabinets, this battery set is designed for heavy-duty applications, providing reliable power for servers and other devices.', price=4680.0, url='https://www.dealnews.com/Eco-Worthy-30-72-k-Wh-48-V-100-AH-Server-Rack-Lithium-Battery-6-Pack-with-Monitor-for-4-680-free-shipping/21777390.html?iref=rss-c142')]\n"
     ]
    }
   ],
   "source": [
    "\n",
    "print(result)"
   ]
  },
  {
   "cell_type": "code",
   "execution_count": 30,
   "id": "dd337309",
   "metadata": {},
   "outputs": [],
   "source": [
    "from agents.scanner_agent import ScannerAgent"
   ]
  },
  {
   "cell_type": "code",
   "execution_count": 32,
   "id": "ba2346f0",
   "metadata": {},
   "outputs": [],
   "source": [
    "agent = ScannerAgent()\n",
    "result = agent.scan()"
   ]
  },
  {
   "cell_type": "code",
   "execution_count": 34,
   "id": "a8ef2a28",
   "metadata": {},
   "outputs": [
    {
     "name": "stdout",
     "output_type": "stream",
     "text": [
      "deals=[Deal(product_description='The Refurbished Unlocked Samsung Galaxy S22 Ultra features a Qualcomm Snapdragon 8 Gen 1 CPU with 8 cores, providing excellent performance for multitasking and gaming. It boasts a stunning 6.8-inch AMOLED touchscreen display with a resolution of 3088x1440 pixels, ensuring vibrant visuals. The phone also offers 256GB of storage capacity along with 8GB of RAM, perfect for storing apps, photos, and videos. Capture stunning photos with its impressive 108MP back camera and a 40MP front-facing camera for high-quality selfies.', price=299.0, url='https://www.dealnews.com/products/Samsung/Unlocked-Samsung-Galaxy-S22-Ultra-256-GB-Phone/382520.html?iref=rss-c142'), Deal(product_description=\"The Refurbished Unlocked Apple iPhone 16 Pro Max offers the latest technology with a sleek design. It features a spacious 256GB of storage, allowing you to store all your photos, videos, and apps without worrying about space. This device is in 'Excellent' condition and is backed by a 1-year Allstate warranty, ensuring peace of mind with your purchase. The iPhone 16 Pro Max is renowned for its exceptional camera capabilities and smooth performance thanks to the advanced A16 chip.\", price=890.0, url='https://www.dealnews.com/products/Apple/Unlocked-Apple-iPhone-16-Pro-Max-256-GB-Smartphone/489845.html?iref=rss-c142'), Deal(product_description='The Refurbished Unlocked Apple iPhone 15 features a 128GB storage capacity, providing ample space for your apps, photos, and media. This model is known for its state-of-the-art camera system and seamless performance, thanks to the latest Apple silicon. With a sleek design and robust build quality, this iPhone is one of the top choices for mobile users. The phone is offered with a 1-year Allstate warranty, making it a reliable and smart purchase for those seeking a dependable smartphone.', price=415.0, url='https://www.dealnews.com/products/Apple/Unlocked-Apple-iPhone-15-128-GB-Smartphone/482155.html?iref=rss-c142'), Deal(product_description='The Refurbished Unlocked Samsung Galaxy S22 is an excellent smartphone packed with features. It sports a powerful Qualcomm Snapdragon 8 Gen 1 CPU and a vibrant 6.8-inch WQHD+ edge screen, perfect for high-definition streaming and gaming experiences. With 128GB of storage and 8GB of RAM, this device ensures smooth multitasking and ample space for all your needs. Capture high-quality images with its 108MP rear camera and stunning selfies via the 40MP front camera. This model also runs on the Android 12 operating system, enhancing your mobile experience.', price=145.0, url='https://www.dealnews.com/products/Samsung/Unlocked-Samsung-Galaxy-S22-128-GB-Android-Smartphone/303992.html?iref=rss-c142'), Deal(product_description='The Eco-Worthy 30.72kWh 48V 100AH Server Rack Lithium Battery 6-Pack is designed for high-performance applications with a durable full-metal shell and smart monitoring capabilities. This system fits standard 3U cabinets and offers wireless connectivity along with a robust 100A BMS that provides multiple layers of protection for safe operation. Perfect for server environments, this battery pack combines efficiency and reliability to meet your energy storage needs. This package provides a total of 30.72kWh capacity to support various setups.', price=4680.0, url='https://www.dealnews.com/Eco-Worthy-30-72-k-Wh-48-V-100-AH-Server-Rack-Lithium-Battery-6-Pack-with-Monitor-for-4-680-free-shipping/21777390.html?iref=rss-c142')]\n"
     ]
    }
   ],
   "source": [
    "print(result)"
   ]
  },
  {
   "cell_type": "code",
   "execution_count": null,
   "id": "e1e317df",
   "metadata": {},
   "outputs": [],
   "source": []
  }
 ],
 "metadata": {
  "kernelspec": {
   "display_name": "llm-engineering",
   "language": "python",
   "name": "python3"
  },
  "language_info": {
   "codemirror_mode": {
    "name": "ipython",
    "version": 3
   },
   "file_extension": ".py",
   "mimetype": "text/x-python",
   "name": "python",
   "nbconvert_exporter": "python",
   "pygments_lexer": "ipython3",
   "version": "3.10.0"
  }
 },
 "nbformat": 4,
 "nbformat_minor": 5
}
