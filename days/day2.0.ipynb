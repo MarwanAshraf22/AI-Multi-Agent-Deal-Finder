{
 "cells": [
  {
   "cell_type": "markdown",
   "id": "b77b7b63",
   "metadata": {},
   "source": [
    "This notebook for creating RAG database"
   ]
  },
  {
   "cell_type": "code",
   "execution_count": null,
   "id": "894a829f",
   "metadata": {},
   "outputs": [],
   "source": [
    "import os\n",
    "import re\n",
    "import math\n",
    "import json\n",
    "from tqdm import tqdm\n",
    "from dotenv import load_dotenv\n",
    "from huggingface_hub import login\n",
    "import pickle\n",
    "import numpy as np\n",
    "from sentence_transformers import SentenceTransformer\n",
    "from datasets import load_dataset\n",
    "import chromadb\n",
    "from items import Item\n",
    "from sklearn.manifold import TSNE\n",
    "import plotly.graph_objects as go"
   ]
  },
  {
   "cell_type": "code",
   "execution_count": null,
   "id": "44e55b75",
   "metadata": {},
   "outputs": [],
   "source": [
    "hf_token = os.environ.get(\"HF_TOKEN\")\n",
    "login(hf_token, add_to_git_credential=True)\n",
    "DB = \"products_vectorstore\""
   ]
  },
  {
   "cell_type": "code",
   "execution_count": null,
   "id": "1ebab95c",
   "metadata": {},
   "outputs": [],
   "source": [
    "with open('train.pkl', 'rb') as f:\n",
    "    train = pickle.load(f)\n",
    "train[0].prompt "
   ]
  },
  {
   "cell_type": "markdown",
   "id": "868df352",
   "metadata": {},
   "source": [
    "## Creating ChromaDB"
   ]
  },
  {
   "cell_type": "code",
   "execution_count": null,
   "id": "08e85659",
   "metadata": {},
   "outputs": [],
   "source": [
    "client = chromadb.PersistentClient(path=DB)"
   ]
  },
  {
   "cell_type": "code",
   "execution_count": null,
   "id": "14976ecb",
   "metadata": {},
   "outputs": [],
   "source": [
    "# Check if the collection exists and delete it if it doesnot\n",
    "collection_name = 'products'\n",
    "exists = [collection.name for collection in client.list_collections()]\n",
    "if collection_name in exists :\n",
    "    client.delete_collection(collection_name)\n",
    "    print(f'deleted collection {collection_name}')\n",
    "\n",
    "collection = client.create_collection(collection_name)\n",
    "collection\n"
   ]
  },
  {
   "cell_type": "markdown",
   "id": "aff95c55",
   "metadata": {},
   "source": [
    "## SentenceTransformer\n",
    "\n",
    "ideal for tasks like semantic search"
   ]
  },
  {
   "cell_type": "code",
   "execution_count": null,
   "id": "362cb6be",
   "metadata": {},
   "outputs": [],
   "source": [
    "model = SentenceTransformer('sentence-transformers/all-MiniLM-L6-v2')"
   ]
  },
  {
   "cell_type": "code",
   "execution_count": null,
   "id": "3586fcb4",
   "metadata": {},
   "outputs": [],
   "source": [
    "vector = model.encode('My Name is Marwan')\n",
    "len(vector)"
   ]
  },
  {
   "cell_type": "code",
   "execution_count": null,
   "id": "18e25751",
   "metadata": {},
   "outputs": [],
   "source": [
    "def description(item):\n",
    "    text = item.prompt.replace('How much does this cost to the nearest dollar?\\n\\n','')\n",
    "    return text.split('\\n\\nPrice is $')[0]  # Return just the description part"
   ]
  },
  {
   "cell_type": "code",
   "execution_count": null,
   "id": "956ff38d",
   "metadata": {},
   "outputs": [],
   "source": [
    "description(train[0])"
   ]
  },
  {
   "cell_type": "code",
   "execution_count": null,
   "id": "86946a23",
   "metadata": {},
   "outputs": [],
   "source": [
    "for i in tqdm(range(0, len(train), 1000)):\n",
    "    documents = [description(item) for item in train[i:i+1000]]\n",
    "    vectors = model.encode(documents).astype(float).tolist()\n",
    "    metadatas = [{'category': item.category, 'price': item.price} for item in train[i:i+1000]]\n",
    "    ids = [f'doc_{j}' for j in range(i, i+1000)]\n",
    "    collection.add(\n",
    "        ids=ids,    \n",
    "        documents=documents,        \n",
    "        embeddings=vectors,\n",
    "        metadatas=metadatas\n",
    "    )"
   ]
  },
  {
   "cell_type": "code",
   "execution_count": null,
   "id": "6c617d6c",
   "metadata": {},
   "outputs": [],
   "source": []
  }
 ],
 "metadata": {
  "kernelspec": {
   "display_name": "llm-engineering",
   "language": "python",
   "name": "python3"
  },
  "language_info": {
   "codemirror_mode": {
    "name": "ipython",
    "version": 3
   },
   "file_extension": ".py",
   "mimetype": "text/x-python",
   "name": "python",
   "nbconvert_exporter": "python",
   "pygments_lexer": "ipython3",
   "version": "3.13.3"
  }
 },
 "nbformat": 4,
 "nbformat_minor": 5
}
