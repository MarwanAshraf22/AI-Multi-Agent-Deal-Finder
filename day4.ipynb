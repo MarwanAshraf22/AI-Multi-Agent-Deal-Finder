{
 "cells": [
  {
   "cell_type": "code",
   "execution_count": 1,
   "id": "aa92101b",
   "metadata": {},
   "outputs": [],
   "source": [
    "from dotenv import load_dotenv\n",
    "from agents.messaging_agent import MessagingAgent"
   ]
  },
  {
   "cell_type": "code",
   "execution_count": 2,
   "metadata": {},
   "outputs": [
    {
     "data": {
      "text/plain": [
       "True"
      ]
     },
     "execution_count": 2,
     "metadata": {},
     "output_type": "execute_result"
    }
   ],
   "source": [
    "load_dotenv()"
   ]
  },
  {
   "cell_type": "code",
   "execution_count": 3,
   "id": "d43cb804",
   "metadata": {},
   "outputs": [],
   "source": [
    "agent = MessagingAgent()"
   ]
  },
  {
   "cell_type": "code",
   "execution_count": 4,
   "metadata": {},
   "outputs": [],
   "source": [
    "agent.push('MASSIVE NEWS !!!')"
   ]
  },
  {
   "cell_type": "code",
   "execution_count": 5,
   "id": "cbf71f5f",
   "metadata": {},
   "outputs": [],
   "source": [
    "import chromadb\n",
    "DB = 'products_vectorstore'\n",
    "client = chromadb.PersistentClient(path=DB)\n",
    "collection = client.get_or_create_collection('products')"
   ]
  },
  {
   "cell_type": "code",
   "execution_count": 6,
   "id": "9d2a6ff5",
   "metadata": {},
   "outputs": [
    {
     "name": "stderr",
     "output_type": "stream",
     "text": [
      "d:\\LLM-Engineering\\llm-engineering\\lib\\site-packages\\tqdm\\auto.py:21: TqdmWarning: IProgress not found. Please update jupyter and ipywidgets. See https://ipywidgets.readthedocs.io/en/stable/user_install.html\n",
      "  from .autonotebook import tqdm as notebook_tqdm\n"
     ]
    }
   ],
   "source": [
    "from agents.planning_agent import PlanningAgent\n",
    "planner = PlanningAgent(collection)"
   ]
  },
  {
   "cell_type": "code",
   "execution_count": 7,
   "metadata": {},
   "outputs": [
    {
     "data": {
      "text/plain": [
       "Opportunity(deal=Deal(product_description='The certified refurbished iRobot Roomba j9+ Self-Emptying & Auto-Fill Robot Vacuum & Mop is a state-of-the-art cleaning device featuring a Clean Base that automatically empties debris and refills water or solution for up to 30 days of uninterrupted cleaning. With its fully retractable mop function and 4-stage cleaning system, it ensures deep cleaning of all surfaces. This model includes a 2-year Allstate warranty for added assurance.', price=270.0, url='https://www.dealnews.com/products/iRobot/iRobot-Roomba-j9-Self-Emptying-Auto-Fill-Robot-Vacuum-Mop/489623.html?iref=rss-f1912'), estimate=800.4376449501113, discount=530.4376449501113)"
      ]
     },
     "execution_count": 7,
     "metadata": {},
     "output_type": "execute_result"
    }
   ],
   "source": [
    "planner.plan()"
   ]
  },
  {
   "cell_type": "code",
   "execution_count": null,
   "id": "e3e599db",
   "metadata": {},
   "outputs": [],
   "source": []
  }
 ],
 "metadata": {
  "kernelspec": {
   "display_name": "llm-engineering",
   "language": "python",
   "name": "python3"
  },
  "language_info": {
   "codemirror_mode": {
    "name": "ipython",
    "version": 3
   },
   "file_extension": ".py",
   "mimetype": "text/x-python",
   "name": "python",
   "nbconvert_exporter": "python",
   "pygments_lexer": "ipython3",
   "version": "3.10.0"
  }
 },
 "nbformat": 4,
 "nbformat_minor": 5
}
